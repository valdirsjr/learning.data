{
 "cells": [
  {
   "cell_type": "code",
   "execution_count": 9,
   "metadata": {},
   "outputs": [
    {
     "name": "stdout",
     "output_type": "stream",
     "text": [
      "insira um numero: 12\n",
      "perímetro:  48  - área:  144\n"
     ]
    }
   ],
   "source": [
    "x = input('insira um numero: ')\n",
    "x = int(x)\n",
    "perimetro = x * 4\n",
    "area = x ** 2\n",
    "print('perímetro: ',perimetro,' - área: ',area)"
   ]
  },
  {
   "cell_type": "code",
   "execution_count": 4,
   "metadata": {},
   "outputs": [
    {
     "name": "stdout",
     "output_type": "stream",
     "text": [
      "digite a n1: 5\n",
      "digite a n2: 6\n",
      "digite a n3: 9\n",
      "digite a n4: 7\n",
      "A média é:  6.75\n"
     ]
    }
   ],
   "source": [
    "n1 = int(input('Digite a primeira nota:: '))\n",
    "n2 = int(input('Digite a segunda nota:: '))\n",
    "n3 = int(input('Digite a terceira nota:: '))\n",
    "n4 = int(input('Digite a quarta nota:: '))\n",
    "\n",
    "media = (n1+n2+n3+n4)/4\n",
    "\n",
    "print('A média aritmética é ',media)"
   ]
  },
  {
   "cell_type": "code",
   "execution_count": 6,
   "metadata": {},
   "outputs": [],
   "source": [
    "import math"
   ]
  },
  {
   "cell_type": "code",
   "execution_count": 41,
   "metadata": {},
   "outputs": [
    {
     "name": "stdout",
     "output_type": "stream",
     "text": [
      "[1, 2, 4, 8, 16, 32, 64, 128, 256, 512, 1024, 2048, 4096, 8192, 16384, 32768, 65536, 131072, 262144, 524288, 1048576, 2097152, 4194304, 8388608, 16777216, 33554432, 67108864, 134217728, 268435456, 536870912, 1073741824, 2147483648, 4294967296, 8589934592, 17179869184, 34359738368, 68719476736, 137438953472, 274877906944, 549755813888, 1099511627776, 2199023255552, 4398046511104, 8796093022208, 17592186044416, 35184372088832, 70368744177664, 140737488355328, 281474976710656, 562949953421312, 1125899906842624, 2251799813685248, 4503599627370496, 9007199254740992, 18014398509481984, 36028797018963968, 72057594037927936, 144115188075855872, 288230376151711744, 576460752303423488, 1152921504606846976, 2305843009213693952, 4611686018427387904, 9223372036854775808, 18446744073709551616]\n"
     ]
    }
   ],
   "source": [
    "a = []\n",
    "i = 0\n",
    "while i <= 64:\n",
    "    a.append(2 ** i)\n",
    "    i = i + 1\n",
    "print(a)"
   ]
  },
  {
   "cell_type": "code",
   "execution_count": 11,
   "metadata": {},
   "outputs": [
    {
     "name": "stdout",
     "output_type": "stream",
     "text": [
      "Digite um número: 3\n",
      "impar\n"
     ]
    }
   ],
   "source": [
    "numero = int(input(\"Digite um número: \"))\n",
    "if ((numero % 2) == 0):\n",
    "    print(\"par\") \n",
    "else: \n",
    "    print(\"impar\")"
   ]
  },
  {
   "cell_type": "code",
   "execution_count": 13,
   "metadata": {},
   "outputs": [
    {
     "name": "stdout",
     "output_type": "stream",
     "text": [
      "Digite um número: 3\n",
      "Fizz\n"
     ]
    }
   ],
   "source": [
    "numero = int(input(\"Digite um número: \"))\n",
    "if ((numero % 3) == 0):\n",
    "    print(\"Fizz\") \n",
    "else: \n",
    "    print(numero)"
   ]
  },
  {
   "cell_type": "code",
   "execution_count": 14,
   "metadata": {},
   "outputs": [
    {
     "name": "stdout",
     "output_type": "stream",
     "text": [
      "Digite um número: 5\n",
      "Buzz\n"
     ]
    }
   ],
   "source": [
    "numero = int(input(\"Digite um número: \"))\n",
    "if ((numero % 5) == 0):\n",
    "    print(\"Buzz\") \n",
    "else: \n",
    "    print(numero)"
   ]
  },
  {
   "cell_type": "code",
   "execution_count": 16,
   "metadata": {},
   "outputs": [
    {
     "name": "stdout",
     "output_type": "stream",
     "text": [
      "Digite um número: 15\n",
      "FizzBuzz\n"
     ]
    }
   ],
   "source": [
    "numero = int(input(\"Digite um número: \"))\n",
    "if (((numero % 5) == 0) and ((numero % 3) == 0)):\n",
    "    print(\"FizzBuzz\") \n",
    "else: \n",
    "    print(numero)"
   ]
  },
  {
   "cell_type": "code",
   "execution_count": 21,
   "metadata": {},
   "outputs": [
    {
     "name": "stdout",
     "output_type": "stream",
     "text": [
      "Digite o primeiro número: 1\n",
      "Digite o segundo número: 2\n",
      "Digite o terceiro número: 0\n",
      "não está em ordem crescente\n"
     ]
    }
   ],
   "source": [
    "numero1 = int(input(\"Digite o primeiro número: \"))\n",
    "numero2 = int(input(\"Digite o segundo número: \"))\n",
    "numero3 = int(input(\"Digite o terceiro número: \"))\n",
    "if (numero1 < numero2 and numero2 < numero3):\n",
    "    print(\"crescente\") \n",
    "else: \n",
    "    print(\"não está em ordem crescente\")"
   ]
  },
  {
   "cell_type": "code",
   "execution_count": 54,
   "metadata": {},
   "outputs": [
    {
     "name": "stdout",
     "output_type": "stream",
     "text": [
      "digite o numero: 123456789\n",
      "a soma dos digitos é:  45\n"
     ]
    }
   ],
   "source": [
    "n = input('digite o numero: ')\n",
    "s = 0\n",
    "for i in n:\n",
    "    s = s + int(i)\n",
    "print('a soma dos digitos é: ',s)"
   ]
  },
  {
   "cell_type": "code",
   "execution_count": 56,
   "metadata": {},
   "outputs": [
    {
     "name": "stdout",
     "output_type": "stream",
     "text": [
      "3\n",
      "0\n"
     ]
    }
   ],
   "source": [
    "i = 6\n",
    "while (i > 0):          \n",
    "    i = i - 3    \n",
    "    print (i) "
   ]
  },
  {
   "cell_type": "code",
   "execution_count": 83,
   "metadata": {},
   "outputs": [
    {
     "name": "stdout",
     "output_type": "stream",
     "text": [
      "Digite o valor de n:0\n",
      "1\n"
     ]
    }
   ],
   "source": [
    "numero = int(input(\"Digite o valor de n:\"))\n",
    "fatorial = numero\n",
    "if (numero <= 0):\n",
    "    fatorial = 1\n",
    "else:\n",
    "    while (numero > 1):\n",
    "        fatorial = fatorial * (numero - 1)\n",
    "        numero = numero - 1\n",
    "print(fatorial)"
   ]
  },
  {
   "cell_type": "code",
   "execution_count": 85,
   "metadata": {},
   "outputs": [
    {
     "name": "stdout",
     "output_type": "stream",
     "text": [
      "Digite o valor de n:3\n",
      "1\n",
      "3\n",
      "5\n"
     ]
    }
   ],
   "source": [
    "n = int(input(\"Digite o valor de n:\"))\n",
    "x = 1\n",
    "while (n >= 1):\n",
    "    if (x % 2 != 0):\n",
    "        print(x)\n",
    "        n = n - 1\n",
    "    x = x + 1\n",
    "    "
   ]
  },
  {
   "cell_type": "code",
   "execution_count": 75,
   "metadata": {},
   "outputs": [
    {
     "name": "stdout",
     "output_type": "stream",
     "text": [
      "Digite um numero inteiro:95487984984\n",
      "75\n",
      "0\n"
     ]
    }
   ],
   "source": [
    "n = int(input(\"Digite um numero inteiro:\"))\n",
    "s = 0\n",
    "while (n >= 1):\n",
    "    s = s + (n % 10)\n",
    "    n = n // 10\n",
    "print(s)"
   ]
  },
  {
   "cell_type": "code",
   "execution_count": 88,
   "metadata": {},
   "outputs": [],
   "source": [
    "def soma(x,y):\n",
    "    return x + y\n",
    "    "
   ]
  },
  {
   "cell_type": "code",
   "execution_count": 91,
   "metadata": {},
   "outputs": [
    {
     "name": "stdout",
     "output_type": "stream",
     "text": [
      "108\n"
     ]
    }
   ],
   "source": [
    "z = soma(18,90)\n",
    "print(z)"
   ]
  },
  {
   "cell_type": "code",
   "execution_count": 95,
   "metadata": {},
   "outputs": [],
   "source": [
    " def fatorial(n):\n",
    "    fat = 1\n",
    "    while (n > 1):\n",
    "        fat = fat * n\n",
    "        n = n - 1\n",
    "    return fat"
   ]
  },
  {
   "cell_type": "code",
   "execution_count": 98,
   "metadata": {},
   "outputs": [
    {
     "data": {
      "text/plain": [
       "1"
      ]
     },
     "execution_count": 98,
     "metadata": {},
     "output_type": "execute_result"
    }
   ],
   "source": [
    "fatorial(0)"
   ]
  },
  {
   "cell_type": "code",
   "execution_count": 99,
   "metadata": {},
   "outputs": [],
   "source": [
    "def maximo(x,y):\n",
    "    if x > y:\n",
    "        return x\n",
    "    else:\n",
    "        return y"
   ]
  },
  {
   "cell_type": "code",
   "execution_count": 102,
   "metadata": {},
   "outputs": [
    {
     "name": "stdout",
     "output_type": "stream",
     "text": [
      "3\n"
     ]
    },
    {
     "data": {
      "text/plain": [
       "['__abs__',\n",
       " '__add__',\n",
       " '__and__',\n",
       " '__bool__',\n",
       " '__ceil__',\n",
       " '__class__',\n",
       " '__delattr__',\n",
       " '__dir__',\n",
       " '__divmod__',\n",
       " '__doc__',\n",
       " '__eq__',\n",
       " '__float__',\n",
       " '__floor__',\n",
       " '__floordiv__',\n",
       " '__format__',\n",
       " '__ge__',\n",
       " '__getattribute__',\n",
       " '__getnewargs__',\n",
       " '__gt__',\n",
       " '__hash__',\n",
       " '__index__',\n",
       " '__init__',\n",
       " '__init_subclass__',\n",
       " '__int__',\n",
       " '__invert__',\n",
       " '__le__',\n",
       " '__lshift__',\n",
       " '__lt__',\n",
       " '__mod__',\n",
       " '__mul__',\n",
       " '__ne__',\n",
       " '__neg__',\n",
       " '__new__',\n",
       " '__or__',\n",
       " '__pos__',\n",
       " '__pow__',\n",
       " '__radd__',\n",
       " '__rand__',\n",
       " '__rdivmod__',\n",
       " '__reduce__',\n",
       " '__reduce_ex__',\n",
       " '__repr__',\n",
       " '__rfloordiv__',\n",
       " '__rlshift__',\n",
       " '__rmod__',\n",
       " '__rmul__',\n",
       " '__ror__',\n",
       " '__round__',\n",
       " '__rpow__',\n",
       " '__rrshift__',\n",
       " '__rshift__',\n",
       " '__rsub__',\n",
       " '__rtruediv__',\n",
       " '__rxor__',\n",
       " '__setattr__',\n",
       " '__sizeof__',\n",
       " '__str__',\n",
       " '__sub__',\n",
       " '__subclasshook__',\n",
       " '__truediv__',\n",
       " '__trunc__',\n",
       " '__xor__',\n",
       " 'bit_length',\n",
       " 'conjugate',\n",
       " 'denominator',\n",
       " 'from_bytes',\n",
       " 'imag',\n",
       " 'numerator',\n",
       " 'real',\n",
       " 'to_bytes']"
      ]
     },
     "execution_count": 102,
     "metadata": {},
     "output_type": "execute_result"
    }
   ],
   "source": [
    "x = 5\n",
    "print(x.bit_length())\n",
    "dir(x)\n",
    "    "
   ]
  },
  {
   "cell_type": "code",
   "execution_count": 121,
   "metadata": {},
   "outputs": [],
   "source": [
    "def éPrimo(n):\n",
    "    i = n - 1\n",
    "    while i > 1:\n",
    "        if (n % i) == 0:\n",
    "            return False\n",
    "        i = i - 1\n",
    "    return True\n",
    "        "
   ]
  },
  {
   "cell_type": "code",
   "execution_count": 122,
   "metadata": {},
   "outputs": [
    {
     "data": {
      "text/plain": [
       "False"
      ]
     },
     "execution_count": 122,
     "metadata": {},
     "output_type": "execute_result"
    }
   ],
   "source": [
    "éPrimo(9)"
   ]
  },
  {
   "cell_type": "code",
   "execution_count": 123,
   "metadata": {},
   "outputs": [],
   "source": [
    "def maior_primo(n):\n",
    "    maior = n\n",
    "    while maior > 1:\n",
    "        if éPrimo(maior):\n",
    "            return maior\n",
    "        maior = maior - 1\n",
    "            \n",
    "        "
   ]
  },
  {
   "cell_type": "code",
   "execution_count": 125,
   "metadata": {},
   "outputs": [
    {
     "data": {
      "text/plain": [
       "47"
      ]
     },
     "execution_count": 125,
     "metadata": {},
     "output_type": "execute_result"
    }
   ],
   "source": [
    "maior_primo(50)"
   ]
  },
  {
   "cell_type": "code",
   "execution_count": 126,
   "metadata": {},
   "outputs": [],
   "source": [
    "def vogal(letra):\n",
    "    vogais = \"aeiouAEIOU\"\n",
    "    if vogais.count(letra) == 1:\n",
    "        return True\n",
    "    else:\n",
    "        return False"
   ]
  },
  {
   "cell_type": "code",
   "execution_count": 131,
   "metadata": {},
   "outputs": [
    {
     "data": {
      "text/plain": [
       "False"
      ]
     },
     "execution_count": 131,
     "metadata": {},
     "output_type": "execute_result"
    }
   ],
   "source": [
    "vogal('Z')"
   ]
  },
  {
   "cell_type": "code",
   "execution_count": 135,
   "metadata": {},
   "outputs": [],
   "source": [
    "lista = []\n",
    "lista.append('valdir')\n",
    "lista.append({1,2,3})"
   ]
  },
  {
   "cell_type": "code",
   "execution_count": 136,
   "metadata": {},
   "outputs": [
    {
     "data": {
      "text/plain": [
       "{1, 2, 3}"
      ]
     },
     "execution_count": 136,
     "metadata": {},
     "output_type": "execute_result"
    }
   ],
   "source": [
    "lista[1]"
   ]
  },
  {
   "cell_type": "code",
   "execution_count": 20,
   "metadata": {},
   "outputs": [
    {
     "name": "stdout",
     "output_type": "stream",
     "text": [
      "1 2 3 4 5 6 7 8 9 "
     ]
    }
   ],
   "source": [
    "i = 0\n",
    "while i < 3:\n",
    "    j = 0\n",
    "    while j < 3:\n",
    "        print(3 * i + j + 1, end=\" \")\n",
    "        j = j + 1\n",
    "    i = i + 1\n"
   ]
  },
  {
   "cell_type": "markdown",
   "metadata": {},
   "source": [
    "### Tarefa da Semana 6 - Jogo do NIM"
   ]
  },
  {
   "cell_type": "code",
   "execution_count": 35,
   "metadata": {},
   "outputs": [
    {
     "name": "stdout",
     "output_type": "stream",
     "text": [
      "\n",
      "    Bem-vindo ao jogo do NIM! Escolha:\n",
      "\n",
      "    1 - para jogar uma partida isolada\n",
      "    2 - para jogar um campeonato\n",
      "    1\n",
      "Quantas peças? 5\n",
      "Limite de peças por jogada? 3\n",
      "Computador começa!\n",
      "O computador tirou uma peça.\n",
      "Agora restam 4 peças no tabuleiro\n",
      "Quantas peças você vai tirar? 1\n",
      "Você tirou uma peça.\n",
      "Agora restam 3 peças no tabuleiro\n",
      "O computador tirou 3 peças.\n",
      "Fim do jogo! O computador ganhou!\n"
     ]
    }
   ],
   "source": [
    "def computador_escolhe_jogada(n,m):\n",
    "    y = 0\n",
    "    i = 1\n",
    "    if n <= m:\n",
    "        y = n\n",
    "    else:\n",
    "        while i <= m:\n",
    "            if (n - i) % (m + 1) == 0:\n",
    "                y = i\n",
    "            i = i + 1\n",
    "            \n",
    "    if y == 0:\n",
    "        y = m\n",
    "        \n",
    "    if y == 1:\n",
    "        print(\"O computador tirou uma peça.\")\n",
    "    else:\n",
    "        print(f\"O computador tirou {y} peças.\")\n",
    "    return y\n",
    "\n",
    "\n",
    "def usuario_escolhe_jogada(n,m):\n",
    "    y = m+1\n",
    "    while y > m:\n",
    "        jogada = int(input(\"Quantas peças você vai tirar? \"))\n",
    "        if (jogada > m) or (jogada < 1) or (jogada > n):\n",
    "            print(\"Oops! Jogada inválida! Tente de novo.\")\n",
    "        else:\n",
    "            y = m\n",
    "            if jogada == 1:\n",
    "                print(\"Você tirou uma peça.\")\n",
    "            else:\n",
    "                print(f\"Você tirou {jogada} peças.\")\n",
    "    return jogada\n",
    "\n",
    "def partida():\n",
    "    jogo = int(input(\"\"\"\n",
    "    Bem-vindo ao jogo do NIM! Escolha:\n",
    "\n",
    "    1 - para jogar uma partida isolada\n",
    "    2 - para jogar um campeonato\n",
    "    \"\"\"))\n",
    "    if jogo == 1:\n",
    "        campeonato = 1\n",
    "    else:\n",
    "        campeonato = 3\n",
    "        print(\"Voce escolheu um campeonato!\")\n",
    "    rodada = 1    \n",
    "    score_pessoa = 0\n",
    "    score_computador = 0\n",
    "    \n",
    "    while rodada <= campeonato:\n",
    "        if campeonato > 1:\n",
    "            print(f\"**** Rodada {rodada} ****\")\n",
    "        n = int(input(\"Quantas peças? \"))\n",
    "        m = int(input(\"Limite de peças por jogada? \"))\n",
    "        \n",
    "        if n % (m + 1) == 0:\n",
    "            print(\"Você começa!\")\n",
    "            player = 1\n",
    "        else:\n",
    "            print(\"Computador começa!\")\n",
    "            player = 0\n",
    "\n",
    "        while n > 0:\n",
    "            if player == 1:\n",
    "                n = n - usuario_escolhe_jogada(n,m)\n",
    "                player = 0\n",
    "            else:\n",
    "                n = n - computador_escolhe_jogada(n,m)\n",
    "                player = 1\n",
    "\n",
    "            if n > 1:\n",
    "                print(f\"Agora restam {n} peças no tabuleiro\")\n",
    "            elif n == 1:\n",
    "                print(f\"Agora resta apenas {n} peça no tabuleiro\")\n",
    "            else:\n",
    "                if player == 1:\n",
    "                    print(\"Fim do jogo! O computador ganhou!\")\n",
    "                    score_computador = score_computador + 1\n",
    "                else:\n",
    "                    print(\"Fim do jogo! Você ganhou!\")\n",
    "                    score_pessoa = score_pessoa + 1\n",
    "        rodada = rodada + 1\n",
    "    if campeonato > 1:\n",
    "        print(\"**** Final do campeonato! ****\")\n",
    "        print(f\"Placar: Você {score_pessoa} X {score_computador} Computador\")\n",
    "    \n",
    "\n",
    "\n",
    "partida()"
   ]
  },
  {
   "cell_type": "code",
   "execution_count": null,
   "metadata": {},
   "outputs": [],
   "source": []
  },
  {
   "cell_type": "code",
   "execution_count": null,
   "metadata": {},
   "outputs": [],
   "source": []
  },
  {
   "cell_type": "code",
   "execution_count": null,
   "metadata": {},
   "outputs": [],
   "source": []
  },
  {
   "cell_type": "code",
   "execution_count": null,
   "metadata": {},
   "outputs": [],
   "source": []
  }
 ],
 "metadata": {
  "kernelspec": {
   "display_name": "Python 3",
   "language": "python",
   "name": "python3"
  },
  "language_info": {
   "codemirror_mode": {
    "name": "ipython",
    "version": 3
   },
   "file_extension": ".py",
   "mimetype": "text/x-python",
   "name": "python",
   "nbconvert_exporter": "python",
   "pygments_lexer": "ipython3",
   "version": "3.6.9"
  }
 },
 "nbformat": 4,
 "nbformat_minor": 4
}
