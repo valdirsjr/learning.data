{
 "cells": [
  {
   "cell_type": "code",
   "execution_count": 9,
   "metadata": {},
   "outputs": [
    {
     "name": "stdout",
     "output_type": "stream",
     "text": [
      "insira um numero: 12\n",
      "perímetro:  48  - área:  144\n"
     ]
    }
   ],
   "source": [
    "x = input('insira um numero: ')\n",
    "x = int(x)\n",
    "perimetro = x * 4\n",
    "area = x ** 2\n",
    "print('perímetro: ',perimetro,' - área: ',area)"
   ]
  },
  {
   "cell_type": "code",
   "execution_count": 4,
   "metadata": {},
   "outputs": [
    {
     "name": "stdout",
     "output_type": "stream",
     "text": [
      "digite a n1: 5\n",
      "digite a n2: 6\n",
      "digite a n3: 9\n",
      "digite a n4: 7\n",
      "A média é:  6.75\n"
     ]
    }
   ],
   "source": [
    "n1 = int(input('Digite a primeira nota:: '))\n",
    "n2 = int(input('Digite a segunda nota:: '))\n",
    "n3 = int(input('Digite a terceira nota:: '))\n",
    "n4 = int(input('Digite a quarta nota:: '))\n",
    "\n",
    "media = (n1+n2+n3+n4)/4\n",
    "\n",
    "print('A média aritmética é ',media)"
   ]
  },
  {
   "cell_type": "code",
   "execution_count": 6,
   "metadata": {},
   "outputs": [],
   "source": [
    "import math"
   ]
  },
  {
   "cell_type": "code",
   "execution_count": 41,
   "metadata": {},
   "outputs": [
    {
     "name": "stdout",
     "output_type": "stream",
     "text": [
      "[1, 2, 4, 8, 16, 32, 64, 128, 256, 512, 1024, 2048, 4096, 8192, 16384, 32768, 65536, 131072, 262144, 524288, 1048576, 2097152, 4194304, 8388608, 16777216, 33554432, 67108864, 134217728, 268435456, 536870912, 1073741824, 2147483648, 4294967296, 8589934592, 17179869184, 34359738368, 68719476736, 137438953472, 274877906944, 549755813888, 1099511627776, 2199023255552, 4398046511104, 8796093022208, 17592186044416, 35184372088832, 70368744177664, 140737488355328, 281474976710656, 562949953421312, 1125899906842624, 2251799813685248, 4503599627370496, 9007199254740992, 18014398509481984, 36028797018963968, 72057594037927936, 144115188075855872, 288230376151711744, 576460752303423488, 1152921504606846976, 2305843009213693952, 4611686018427387904, 9223372036854775808, 18446744073709551616]\n"
     ]
    }
   ],
   "source": [
    "a = []\n",
    "i = 0\n",
    "while i <= 64:\n",
    "    a.append(2 ** i)\n",
    "    i = i + 1\n",
    "print(a)"
   ]
  },
  {
   "cell_type": "code",
   "execution_count": 11,
   "metadata": {},
   "outputs": [
    {
     "name": "stdout",
     "output_type": "stream",
     "text": [
      "Digite um número: 3\n",
      "impar\n"
     ]
    }
   ],
   "source": [
    "numero = int(input(\"Digite um número: \"))\n",
    "if ((numero % 2) == 0):\n",
    "    print(\"par\") \n",
    "else: \n",
    "    print(\"impar\")"
   ]
  },
  {
   "cell_type": "code",
   "execution_count": 13,
   "metadata": {},
   "outputs": [
    {
     "name": "stdout",
     "output_type": "stream",
     "text": [
      "Digite um número: 3\n",
      "Fizz\n"
     ]
    }
   ],
   "source": [
    "numero = int(input(\"Digite um número: \"))\n",
    "if ((numero % 3) == 0):\n",
    "    print(\"Fizz\") \n",
    "else: \n",
    "    print(numero)"
   ]
  },
  {
   "cell_type": "code",
   "execution_count": 14,
   "metadata": {},
   "outputs": [
    {
     "name": "stdout",
     "output_type": "stream",
     "text": [
      "Digite um número: 5\n",
      "Buzz\n"
     ]
    }
   ],
   "source": [
    "numero = int(input(\"Digite um número: \"))\n",
    "if ((numero % 5) == 0):\n",
    "    print(\"Buzz\") \n",
    "else: \n",
    "    print(numero)"
   ]
  },
  {
   "cell_type": "code",
   "execution_count": 16,
   "metadata": {},
   "outputs": [
    {
     "name": "stdout",
     "output_type": "stream",
     "text": [
      "Digite um número: 15\n",
      "FizzBuzz\n"
     ]
    }
   ],
   "source": [
    "numero = int(input(\"Digite um número: \"))\n",
    "if (((numero % 5) == 0) and ((numero % 3) == 0)):\n",
    "    print(\"FizzBuzz\") \n",
    "else: \n",
    "    print(numero)"
   ]
  },
  {
   "cell_type": "code",
   "execution_count": 21,
   "metadata": {},
   "outputs": [
    {
     "name": "stdout",
     "output_type": "stream",
     "text": [
      "Digite o primeiro número: 1\n",
      "Digite o segundo número: 2\n",
      "Digite o terceiro número: 0\n",
      "não está em ordem crescente\n"
     ]
    }
   ],
   "source": [
    "numero1 = int(input(\"Digite o primeiro número: \"))\n",
    "numero2 = int(input(\"Digite o segundo número: \"))\n",
    "numero3 = int(input(\"Digite o terceiro número: \"))\n",
    "if (numero1 < numero2 and numero2 < numero3):\n",
    "    print(\"crescente\") \n",
    "else: \n",
    "    print(\"não está em ordem crescente\")"
   ]
  },
  {
   "cell_type": "code",
   "execution_count": 54,
   "metadata": {},
   "outputs": [
    {
     "name": "stdout",
     "output_type": "stream",
     "text": [
      "digite o numero: 123456789\n",
      "a soma dos digitos é:  45\n"
     ]
    }
   ],
   "source": [
    "n = input('digite o numero: ')\n",
    "s = 0\n",
    "for i in n:\n",
    "    s = s + int(i)\n",
    "print('a soma dos digitos é: ',s)"
   ]
  },
  {
   "cell_type": "code",
   "execution_count": 56,
   "metadata": {},
   "outputs": [
    {
     "name": "stdout",
     "output_type": "stream",
     "text": [
      "3\n",
      "0\n"
     ]
    }
   ],
   "source": [
    "i = 6\n",
    "while (i > 0):          \n",
    "    i = i - 3    \n",
    "    print (i) "
   ]
  },
  {
   "cell_type": "code",
   "execution_count": 83,
   "metadata": {},
   "outputs": [
    {
     "name": "stdout",
     "output_type": "stream",
     "text": [
      "Digite o valor de n:0\n",
      "1\n"
     ]
    }
   ],
   "source": [
    "numero = int(input(\"Digite o valor de n:\"))\n",
    "fatorial = numero\n",
    "if (numero <= 0):\n",
    "    fatorial = 1\n",
    "else:\n",
    "    while (numero > 1):\n",
    "        fatorial = fatorial * (numero - 1)\n",
    "        numero = numero - 1\n",
    "print(fatorial)"
   ]
  },
  {
   "cell_type": "code",
   "execution_count": 85,
   "metadata": {},
   "outputs": [
    {
     "name": "stdout",
     "output_type": "stream",
     "text": [
      "Digite o valor de n:3\n",
      "1\n",
      "3\n",
      "5\n"
     ]
    }
   ],
   "source": [
    "n = int(input(\"Digite o valor de n:\"))\n",
    "x = 1\n",
    "while (n >= 1):\n",
    "    if (x % 2 != 0):\n",
    "        print(x)\n",
    "        n = n - 1\n",
    "    x = x + 1\n",
    "    "
   ]
  },
  {
   "cell_type": "code",
   "execution_count": 75,
   "metadata": {},
   "outputs": [
    {
     "name": "stdout",
     "output_type": "stream",
     "text": [
      "Digite um numero inteiro:95487984984\n",
      "75\n",
      "0\n"
     ]
    }
   ],
   "source": [
    "n = int(input(\"Digite um numero inteiro:\"))\n",
    "s = 0\n",
    "while (n >= 1):\n",
    "    s = s + (n % 10)\n",
    "    n = n // 10\n",
    "print(s)"
   ]
  },
  {
   "cell_type": "code",
   "execution_count": 88,
   "metadata": {},
   "outputs": [],
   "source": [
    "def soma(x,y):\n",
    "    return x + y\n",
    "    "
   ]
  },
  {
   "cell_type": "code",
   "execution_count": 91,
   "metadata": {},
   "outputs": [
    {
     "name": "stdout",
     "output_type": "stream",
     "text": [
      "108\n"
     ]
    }
   ],
   "source": [
    "z = soma(18,90)\n",
    "print(z)"
   ]
  },
  {
   "cell_type": "code",
   "execution_count": null,
   "metadata": {},
   "outputs": [],
   "source": []
  }
 ],
 "metadata": {
  "kernelspec": {
   "display_name": "Python 3",
   "language": "python",
   "name": "python3"
  },
  "language_info": {
   "codemirror_mode": {
    "name": "ipython",
    "version": 3
   },
   "file_extension": ".py",
   "mimetype": "text/x-python",
   "name": "python",
   "nbconvert_exporter": "python",
   "pygments_lexer": "ipython3",
   "version": "3.6.9"
  }
 },
 "nbformat": 4,
 "nbformat_minor": 4
}
