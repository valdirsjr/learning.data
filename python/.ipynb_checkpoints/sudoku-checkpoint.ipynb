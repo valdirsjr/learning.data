{
 "cells": [
  {
   "cell_type": "code",
   "execution_count": 6,
   "metadata": {},
   "outputs": [
    {
     "name": "stdout",
     "output_type": "stream",
     "text": [
      "[[0, 1, 0, 0, 0, 9, 0, 0, 8], [2, 0, 7, 0, 3, 0, 0, 0, 0], [0, 0, 4, 6, 0, 2, 0, 3, 0], [3, 7, 8, 4, 0, 0, 0, 0, 9], [4, 2, 9, 0, 0, 0, 0, 8, 1], [0, 6, 1, 9, 2, 8, 4, 0, 0], [0, 0, 6, 0, 8, 4, 3, 0, 7], [0, 4, 0, 0, 9, 0, 0, 1, 0], [8, 3, 0, 0, 0, 0, 6, 0, 4]]\n"
     ]
    }
   ],
   "source": [
    "import numpy as np\n",
    "sudoku = [[0,1,0,0,0,9,0,0,8],\n",
    "          [2,0,7,0,3,0,0,0,0],\n",
    "          [0,0,4,6,0,2,0,3,0],\n",
    "          [3,7,8,4,0,0,0,0,9],\n",
    "          [4,2,9,0,0,0,0,8,1],\n",
    "          [0,6,1,9,2,8,4,0,0],\n",
    "          [0,0,6,0,8,4,3,0,7],\n",
    "          [0,4,0,0,9,0,0,1,0],\n",
    "          [8,3,0,0,0,0,6,0,4]\n",
    "         ]\n",
    "print(sudoku)"
   ]
  },
  {
   "cell_type": "code",
   "execution_count": 7,
   "metadata": {},
   "outputs": [
    {
     "name": "stdout",
     "output_type": "stream",
     "text": [
      "total de numeros:  81 , total de zeros:  43  =  53.0 %\n"
     ]
    }
   ],
   "source": [
    "c0 = 0\n",
    "ct = 0\n",
    "possible = []\n",
    "for i in sudoku:\n",
    "    for j in i:\n",
    "        ct = ct + 1\n",
    "        if j == 0:\n",
    "            c0 = c0 + 1\n",
    "print('total de numeros: ',ct,', total de zeros: ',c0,' = ',(round(c0/ct,2)*100),'%')\n",
    "        "
   ]
  },
  {
   "cell_type": "code",
   "execution_count": 8,
   "metadata": {},
   "outputs": [],
   "source": [
    "numbers = {1,2,3,4,5,6,7,8,9}\n",
    "x = 0\n",
    "while x < 9:\n",
    "    y = 0\n",
    "    while y < 9:\n",
    "        possible = []\n",
    "        i = j = 0\n",
    "        for i in sudoku[x]:\n",
    "            if i != 0:\n",
    "                possible.append(i)\n",
    "        while j < 9:\n",
    "            if sudoku[j][y] != 0:\n",
    "                possible.append(sudoku[j][y])\n",
    "            j = j + 1\n",
    "        sudoku[x][y] = possible\n",
    "        y = y + 1\n",
    "    x = x + 1\n",
    "\n",
    "print(sudoku)\n",
    "\n",
    "    "
   ]
  },
  {
   "cell_type": "code",
   "execution_count": null,
   "metadata": {},
   "outputs": [],
   "source": []
  },
  {
   "cell_type": "code",
   "execution_count": null,
   "metadata": {},
   "outputs": [],
   "source": []
  }
 ],
 "metadata": {
  "kernelspec": {
   "display_name": "Python 3",
   "language": "python",
   "name": "python3"
  },
  "language_info": {
   "codemirror_mode": {
    "name": "ipython",
    "version": 3
   },
   "file_extension": ".py",
   "mimetype": "text/x-python",
   "name": "python",
   "nbconvert_exporter": "python",
   "pygments_lexer": "ipython3",
   "version": "3.6.9"
  }
 },
 "nbformat": 4,
 "nbformat_minor": 4
}
