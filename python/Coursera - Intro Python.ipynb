{
 "cells": [
  {
   "cell_type": "code",
   "execution_count": 9,
   "metadata": {},
   "outputs": [
    {
     "name": "stdout",
     "output_type": "stream",
     "text": [
      "insira um numero: 12\n",
      "perímetro:  48  - área:  144\n"
     ]
    }
   ],
   "source": [
    "x = input('insira um numero: ')\n",
    "x = int(x)\n",
    "perimetro = x * 4\n",
    "area = x ** 2\n",
    "print('perímetro: ',perimetro,' - área: ',area)"
   ]
  },
  {
   "cell_type": "code",
   "execution_count": 4,
   "metadata": {},
   "outputs": [
    {
     "name": "stdout",
     "output_type": "stream",
     "text": [
      "digite a n1: 5\n",
      "digite a n2: 6\n",
      "digite a n3: 9\n",
      "digite a n4: 7\n",
      "A média é:  6.75\n"
     ]
    }
   ],
   "source": [
    "n1 = int(input('Digite a primeira nota:: '))\n",
    "n2 = int(input('Digite a segunda nota:: '))\n",
    "n3 = int(input('Digite a terceira nota:: '))\n",
    "n4 = int(input('Digite a quarta nota:: '))\n",
    "\n",
    "media = (n1+n2+n3+n4)/4\n",
    "\n",
    "print('A média aritmética é ',media)"
   ]
  },
  {
   "cell_type": "code",
   "execution_count": 6,
   "metadata": {},
   "outputs": [],
   "source": [
    "import math"
   ]
  },
  {
   "cell_type": "code",
   "execution_count": 41,
   "metadata": {},
   "outputs": [
    {
     "name": "stdout",
     "output_type": "stream",
     "text": [
      "[1, 2, 4, 8, 16, 32, 64, 128, 256, 512, 1024, 2048, 4096, 8192, 16384, 32768, 65536, 131072, 262144, 524288, 1048576, 2097152, 4194304, 8388608, 16777216, 33554432, 67108864, 134217728, 268435456, 536870912, 1073741824, 2147483648, 4294967296, 8589934592, 17179869184, 34359738368, 68719476736, 137438953472, 274877906944, 549755813888, 1099511627776, 2199023255552, 4398046511104, 8796093022208, 17592186044416, 35184372088832, 70368744177664, 140737488355328, 281474976710656, 562949953421312, 1125899906842624, 2251799813685248, 4503599627370496, 9007199254740992, 18014398509481984, 36028797018963968, 72057594037927936, 144115188075855872, 288230376151711744, 576460752303423488, 1152921504606846976, 2305843009213693952, 4611686018427387904, 9223372036854775808, 18446744073709551616]\n"
     ]
    }
   ],
   "source": [
    "a = []\n",
    "i = 0\n",
    "while i <= 64:\n",
    "    a.append(2 ** i)\n",
    "    i = i + 1\n",
    "print(a)"
   ]
  },
  {
   "cell_type": "code",
   "execution_count": 11,
   "metadata": {},
   "outputs": [
    {
     "name": "stdout",
     "output_type": "stream",
     "text": [
      "Digite um número: 3\n",
      "impar\n"
     ]
    }
   ],
   "source": [
    "numero = int(input(\"Digite um número: \"))\n",
    "if ((numero % 2) == 0):\n",
    "    print(\"par\") \n",
    "else: \n",
    "    print(\"impar\")"
   ]
  },
  {
   "cell_type": "code",
   "execution_count": 13,
   "metadata": {},
   "outputs": [
    {
     "name": "stdout",
     "output_type": "stream",
     "text": [
      "Digite um número: 3\n",
      "Fizz\n"
     ]
    }
   ],
   "source": [
    "numero = int(input(\"Digite um número: \"))\n",
    "if ((numero % 3) == 0):\n",
    "    print(\"Fizz\") \n",
    "else: \n",
    "    print(numero)"
   ]
  },
  {
   "cell_type": "code",
   "execution_count": 14,
   "metadata": {},
   "outputs": [
    {
     "name": "stdout",
     "output_type": "stream",
     "text": [
      "Digite um número: 5\n",
      "Buzz\n"
     ]
    }
   ],
   "source": [
    "numero = int(input(\"Digite um número: \"))\n",
    "if ((numero % 5) == 0):\n",
    "    print(\"Buzz\") \n",
    "else: \n",
    "    print(numero)"
   ]
  },
  {
   "cell_type": "code",
   "execution_count": 16,
   "metadata": {},
   "outputs": [
    {
     "name": "stdout",
     "output_type": "stream",
     "text": [
      "Digite um número: 15\n",
      "FizzBuzz\n"
     ]
    }
   ],
   "source": [
    "numero = int(input(\"Digite um número: \"))\n",
    "if (((numero % 5) == 0) and ((numero % 3) == 0)):\n",
    "    print(\"FizzBuzz\") \n",
    "else: \n",
    "    print(numero)"
   ]
  },
  {
   "cell_type": "code",
   "execution_count": 21,
   "metadata": {},
   "outputs": [
    {
     "name": "stdout",
     "output_type": "stream",
     "text": [
      "Digite o primeiro número: 1\n",
      "Digite o segundo número: 2\n",
      "Digite o terceiro número: 0\n",
      "não está em ordem crescente\n"
     ]
    }
   ],
   "source": [
    "numero1 = int(input(\"Digite o primeiro número: \"))\n",
    "numero2 = int(input(\"Digite o segundo número: \"))\n",
    "numero3 = int(input(\"Digite o terceiro número: \"))\n",
    "if (numero1 < numero2 and numero2 < numero3):\n",
    "    print(\"crescente\") \n",
    "else: \n",
    "    print(\"não está em ordem crescente\")"
   ]
  },
  {
   "cell_type": "code",
   "execution_count": 54,
   "metadata": {},
   "outputs": [
    {
     "name": "stdout",
     "output_type": "stream",
     "text": [
      "digite o numero: 123456789\n",
      "a soma dos digitos é:  45\n"
     ]
    }
   ],
   "source": [
    "n = input('digite o numero: ')\n",
    "s = 0\n",
    "for i in n:\n",
    "    s = s + int(i)\n",
    "print('a soma dos digitos é: ',s)"
   ]
  },
  {
   "cell_type": "code",
   "execution_count": 56,
   "metadata": {},
   "outputs": [
    {
     "name": "stdout",
     "output_type": "stream",
     "text": [
      "3\n",
      "0\n"
     ]
    }
   ],
   "source": [
    "i = 6\n",
    "while (i > 0):          \n",
    "    i = i - 3    \n",
    "    print (i) "
   ]
  },
  {
   "cell_type": "code",
   "execution_count": 83,
   "metadata": {},
   "outputs": [
    {
     "name": "stdout",
     "output_type": "stream",
     "text": [
      "Digite o valor de n:0\n",
      "1\n"
     ]
    }
   ],
   "source": [
    "numero = int(input(\"Digite o valor de n:\"))\n",
    "fatorial = numero\n",
    "if (numero <= 0):\n",
    "    fatorial = 1\n",
    "else:\n",
    "    while (numero > 1):\n",
    "        fatorial = fatorial * (numero - 1)\n",
    "        numero = numero - 1\n",
    "print(fatorial)"
   ]
  },
  {
   "cell_type": "code",
   "execution_count": 85,
   "metadata": {},
   "outputs": [
    {
     "name": "stdout",
     "output_type": "stream",
     "text": [
      "Digite o valor de n:3\n",
      "1\n",
      "3\n",
      "5\n"
     ]
    }
   ],
   "source": [
    "n = int(input(\"Digite o valor de n:\"))\n",
    "x = 1\n",
    "while (n >= 1):\n",
    "    if (x % 2 != 0):\n",
    "        print(x)\n",
    "        n = n - 1\n",
    "    x = x + 1\n",
    "    "
   ]
  },
  {
   "cell_type": "code",
   "execution_count": 75,
   "metadata": {},
   "outputs": [
    {
     "name": "stdout",
     "output_type": "stream",
     "text": [
      "Digite um numero inteiro:95487984984\n",
      "75\n",
      "0\n"
     ]
    }
   ],
   "source": [
    "n = int(input(\"Digite um numero inteiro:\"))\n",
    "s = 0\n",
    "while (n >= 1):\n",
    "    s = s + (n % 10)\n",
    "    n = n // 10\n",
    "print(s)"
   ]
  },
  {
   "cell_type": "code",
   "execution_count": 88,
   "metadata": {},
   "outputs": [],
   "source": [
    "def soma(x,y):\n",
    "    return x + y\n",
    "    "
   ]
  },
  {
   "cell_type": "code",
   "execution_count": 91,
   "metadata": {},
   "outputs": [
    {
     "name": "stdout",
     "output_type": "stream",
     "text": [
      "108\n"
     ]
    }
   ],
   "source": [
    "z = soma(18,90)\n",
    "print(z)"
   ]
  },
  {
   "cell_type": "code",
   "execution_count": 95,
   "metadata": {},
   "outputs": [],
   "source": [
    " def fatorial(n):\n",
    "    fat = 1\n",
    "    while (n > 1):\n",
    "        fat = fat * n\n",
    "        n = n - 1\n",
    "    return fat"
   ]
  },
  {
   "cell_type": "code",
   "execution_count": 98,
   "metadata": {},
   "outputs": [
    {
     "data": {
      "text/plain": [
       "1"
      ]
     },
     "execution_count": 98,
     "metadata": {},
     "output_type": "execute_result"
    }
   ],
   "source": [
    "fatorial(0)"
   ]
  },
  {
   "cell_type": "code",
   "execution_count": 99,
   "metadata": {},
   "outputs": [],
   "source": [
    "def maximo(x,y):\n",
    "    if x > y:\n",
    "        return x\n",
    "    else:\n",
    "        return y"
   ]
  },
  {
   "cell_type": "code",
   "execution_count": 102,
   "metadata": {},
   "outputs": [
    {
     "name": "stdout",
     "output_type": "stream",
     "text": [
      "3\n"
     ]
    },
    {
     "data": {
      "text/plain": [
       "['__abs__',\n",
       " '__add__',\n",
       " '__and__',\n",
       " '__bool__',\n",
       " '__ceil__',\n",
       " '__class__',\n",
       " '__delattr__',\n",
       " '__dir__',\n",
       " '__divmod__',\n",
       " '__doc__',\n",
       " '__eq__',\n",
       " '__float__',\n",
       " '__floor__',\n",
       " '__floordiv__',\n",
       " '__format__',\n",
       " '__ge__',\n",
       " '__getattribute__',\n",
       " '__getnewargs__',\n",
       " '__gt__',\n",
       " '__hash__',\n",
       " '__index__',\n",
       " '__init__',\n",
       " '__init_subclass__',\n",
       " '__int__',\n",
       " '__invert__',\n",
       " '__le__',\n",
       " '__lshift__',\n",
       " '__lt__',\n",
       " '__mod__',\n",
       " '__mul__',\n",
       " '__ne__',\n",
       " '__neg__',\n",
       " '__new__',\n",
       " '__or__',\n",
       " '__pos__',\n",
       " '__pow__',\n",
       " '__radd__',\n",
       " '__rand__',\n",
       " '__rdivmod__',\n",
       " '__reduce__',\n",
       " '__reduce_ex__',\n",
       " '__repr__',\n",
       " '__rfloordiv__',\n",
       " '__rlshift__',\n",
       " '__rmod__',\n",
       " '__rmul__',\n",
       " '__ror__',\n",
       " '__round__',\n",
       " '__rpow__',\n",
       " '__rrshift__',\n",
       " '__rshift__',\n",
       " '__rsub__',\n",
       " '__rtruediv__',\n",
       " '__rxor__',\n",
       " '__setattr__',\n",
       " '__sizeof__',\n",
       " '__str__',\n",
       " '__sub__',\n",
       " '__subclasshook__',\n",
       " '__truediv__',\n",
       " '__trunc__',\n",
       " '__xor__',\n",
       " 'bit_length',\n",
       " 'conjugate',\n",
       " 'denominator',\n",
       " 'from_bytes',\n",
       " 'imag',\n",
       " 'numerator',\n",
       " 'real',\n",
       " 'to_bytes']"
      ]
     },
     "execution_count": 102,
     "metadata": {},
     "output_type": "execute_result"
    }
   ],
   "source": [
    "x = 5\n",
    "print(x.bit_length())\n",
    "dir(x)\n",
    "    "
   ]
  },
  {
   "cell_type": "code",
   "execution_count": 121,
   "metadata": {},
   "outputs": [],
   "source": [
    "def éPrimo(n):\n",
    "    i = n - 1\n",
    "    while i > 1:\n",
    "        if (n % i) == 0:\n",
    "            return False\n",
    "        i = i - 1\n",
    "    return True\n",
    "        "
   ]
  },
  {
   "cell_type": "code",
   "execution_count": 122,
   "metadata": {},
   "outputs": [
    {
     "data": {
      "text/plain": [
       "False"
      ]
     },
     "execution_count": 122,
     "metadata": {},
     "output_type": "execute_result"
    }
   ],
   "source": [
    "éPrimo(9)"
   ]
  },
  {
   "cell_type": "code",
   "execution_count": 123,
   "metadata": {},
   "outputs": [],
   "source": [
    "def maior_primo(n):\n",
    "    maior = n\n",
    "    while maior > 1:\n",
    "        if éPrimo(maior):\n",
    "            return maior\n",
    "        maior = maior - 1\n",
    "            \n",
    "        "
   ]
  },
  {
   "cell_type": "code",
   "execution_count": 125,
   "metadata": {},
   "outputs": [
    {
     "data": {
      "text/plain": [
       "47"
      ]
     },
     "execution_count": 125,
     "metadata": {},
     "output_type": "execute_result"
    }
   ],
   "source": [
    "maior_primo(50)"
   ]
  },
  {
   "cell_type": "code",
   "execution_count": 126,
   "metadata": {},
   "outputs": [],
   "source": [
    "def vogal(letra):\n",
    "    vogais = \"aeiouAEIOU\"\n",
    "    if vogais.count(letra) == 1:\n",
    "        return True\n",
    "    else:\n",
    "        return False"
   ]
  },
  {
   "cell_type": "code",
   "execution_count": 131,
   "metadata": {},
   "outputs": [
    {
     "data": {
      "text/plain": [
       "False"
      ]
     },
     "execution_count": 131,
     "metadata": {},
     "output_type": "execute_result"
    }
   ],
   "source": [
    "vogal('Z')"
   ]
  },
  {
   "cell_type": "code",
   "execution_count": 135,
   "metadata": {},
   "outputs": [],
   "source": [
    "lista = []\n",
    "lista.append('valdir')\n",
    "lista.append({1,2,3})"
   ]
  },
  {
   "cell_type": "code",
   "execution_count": 136,
   "metadata": {},
   "outputs": [
    {
     "data": {
      "text/plain": [
       "{1, 2, 3}"
      ]
     },
     "execution_count": 136,
     "metadata": {},
     "output_type": "execute_result"
    }
   ],
   "source": [
    "lista[1]"
   ]
  },
  {
   "cell_type": "code",
   "execution_count": 20,
   "metadata": {},
   "outputs": [
    {
     "name": "stdout",
     "output_type": "stream",
     "text": [
      "1 2 3 4 5 6 7 8 9 "
     ]
    }
   ],
   "source": [
    "i = 0\n",
    "while i < 3:\n",
    "    j = 0\n",
    "    while j < 3:\n",
    "        print(3 * i + j + 1, end=\" \")\n",
    "        j = j + 1\n",
    "    i = i + 1\n"
   ]
  },
  {
   "cell_type": "markdown",
   "metadata": {},
   "source": [
    "### Tarefa da Semana 6 - Jogo do NIM"
   ]
  },
  {
   "cell_type": "code",
   "execution_count": 35,
   "metadata": {},
   "outputs": [
    {
     "name": "stdout",
     "output_type": "stream",
     "text": [
      "\n",
      "    Bem-vindo ao jogo do NIM! Escolha:\n",
      "\n",
      "    1 - para jogar uma partida isolada\n",
      "    2 - para jogar um campeonato\n",
      "    1\n",
      "Quantas peças? 5\n",
      "Limite de peças por jogada? 3\n",
      "Computador começa!\n",
      "O computador tirou uma peça.\n",
      "Agora restam 4 peças no tabuleiro\n",
      "Quantas peças você vai tirar? 1\n",
      "Você tirou uma peça.\n",
      "Agora restam 3 peças no tabuleiro\n",
      "O computador tirou 3 peças.\n",
      "Fim do jogo! O computador ganhou!\n"
     ]
    }
   ],
   "source": [
    "def computador_escolhe_jogada(n,m):\n",
    "    y = 0\n",
    "    i = 1\n",
    "    if n <= m:\n",
    "        y = n\n",
    "    else:\n",
    "        while i <= m:\n",
    "            if (n - i) % (m + 1) == 0:\n",
    "                y = i\n",
    "            i = i + 1\n",
    "            \n",
    "    if y == 0:\n",
    "        y = m\n",
    "        \n",
    "    if y == 1:\n",
    "        print(\"O computador tirou uma peça.\")\n",
    "    else:\n",
    "        print(f\"O computador tirou {y} peças.\")\n",
    "    return y\n",
    "\n",
    "\n",
    "def usuario_escolhe_jogada(n,m):\n",
    "    y = m+1\n",
    "    while y > m:\n",
    "        jogada = int(input(\"Quantas peças você vai tirar? \"))\n",
    "        if (jogada > m) or (jogada < 1) or (jogada > n):\n",
    "            print(\"Oops! Jogada inválida! Tente de novo.\")\n",
    "        else:\n",
    "            y = m\n",
    "            if jogada == 1:\n",
    "                print(\"Você tirou uma peça.\")\n",
    "            else:\n",
    "                print(f\"Você tirou {jogada} peças.\")\n",
    "    return jogada\n",
    "\n",
    "def partida():\n",
    "    jogo = int(input(\"\"\"\n",
    "    Bem-vindo ao jogo do NIM! Escolha:\n",
    "\n",
    "    1 - para jogar uma partida isolada\n",
    "    2 - para jogar um campeonato\n",
    "    \"\"\"))\n",
    "    if jogo == 1:\n",
    "        campeonato = 1\n",
    "    else:\n",
    "        campeonato = 3\n",
    "        print(\"Voce escolheu um campeonato!\")\n",
    "    rodada = 1    \n",
    "    score_pessoa = 0\n",
    "    score_computador = 0\n",
    "    \n",
    "    while rodada <= campeonato:\n",
    "        if campeonato > 1:\n",
    "            print(f\"**** Rodada {rodada} ****\")\n",
    "        n = int(input(\"Quantas peças? \"))\n",
    "        m = int(input(\"Limite de peças por jogada? \"))\n",
    "        \n",
    "        if n % (m + 1) == 0:\n",
    "            print(\"Você começa!\")\n",
    "            player = 1\n",
    "        else:\n",
    "            print(\"Computador começa!\")\n",
    "            player = 0\n",
    "\n",
    "        while n > 0:\n",
    "            if player == 1:\n",
    "                n = n - usuario_escolhe_jogada(n,m)\n",
    "                player = 0\n",
    "            else:\n",
    "                n = n - computador_escolhe_jogada(n,m)\n",
    "                player = 1\n",
    "\n",
    "            if n > 1:\n",
    "                print(f\"Agora restam {n} peças no tabuleiro\")\n",
    "            elif n == 1:\n",
    "                print(f\"Agora resta apenas {n} peça no tabuleiro\")\n",
    "            else:\n",
    "                if player == 1:\n",
    "                    print(\"Fim do jogo! O computador ganhou!\")\n",
    "                    score_computador = score_computador + 1\n",
    "                else:\n",
    "                    print(\"Fim do jogo! Você ganhou!\")\n",
    "                    score_pessoa = score_pessoa + 1\n",
    "        rodada = rodada + 1\n",
    "    if campeonato > 1:\n",
    "        print(\"**** Final do campeonato! ****\")\n",
    "        print(f\"Placar: Você {score_pessoa} X {score_computador} Computador\")\n",
    "    \n",
    "\n",
    "\n",
    "partida()"
   ]
  },
  {
   "cell_type": "code",
   "execution_count": 11,
   "metadata": {},
   "outputs": [
    {
     "name": "stdout",
     "output_type": "stream",
     "text": [
      "digite a largura: 5\n",
      "digite a altura: 5\n",
      "#####\n",
      "#####\n",
      "#####\n",
      "#####\n",
      "#####\n"
     ]
    }
   ],
   "source": [
    "l = int(input(\"digite a largura: \"))\n",
    "a = int(input(\"digite a altura: \"))\n",
    "\n",
    "y = 1\n",
    "b = \"\"\n",
    "while y <= a:\n",
    "    x = 1\n",
    "    while x <= l:\n",
    "        b = b + \"#\"\n",
    "        x = x + 1\n",
    "    print(b)\n",
    "    b = \"\"\n",
    "    y = y + 1\n",
    "    \n",
    "        "
   ]
  },
  {
   "cell_type": "code",
   "execution_count": 7,
   "metadata": {},
   "outputs": [
    {
     "name": "stdout",
     "output_type": "stream",
     "text": [
      "digite a largura: 2\n",
      "digite a altura: 2\n",
      "##\n",
      "##\n"
     ]
    }
   ],
   "source": [
    "l = int(input(\"digite a largura: \"))\n",
    "a = int(input(\"digite a altura: \"))\n",
    "\n",
    "y = 1\n",
    "b = \"\"\n",
    "while y <= a:\n",
    "    x = 1\n",
    "    while x <= l:\n",
    "        if y == 1 or y == a:\n",
    "            b = b + \"#\"\n",
    "        else:\n",
    "            if x == 1 or x == l:\n",
    "                b = b + \"#\"\n",
    "            else:\n",
    "                b = b + \" \"\n",
    "        x = x + 1\n",
    "    print(b)\n",
    "    b = \"\"\n",
    "    y = y + 1"
   ]
  },
  {
   "cell_type": "code",
   "execution_count": 3,
   "metadata": {},
   "outputs": [
    {
     "data": {
      "text/plain": [
       "True"
      ]
     },
     "execution_count": 3,
     "metadata": {},
     "output_type": "execute_result"
    }
   ],
   "source": [
    "def eh_primo(x):\n",
    "    fator = 2\n",
    "    if x == 2:\n",
    "        return True\n",
    "    while x % fator != 0 and fator <= x/2:\n",
    "        fator = fator + 1\n",
    "    if x % fator == 0:\n",
    "        return False\n",
    "    else:\n",
    "        return True\n",
    "\n",
    "eh_primo(43)"
   ]
  },
  {
   "cell_type": "code",
   "execution_count": 7,
   "metadata": {},
   "outputs": [
    {
     "name": "stdout",
     "output_type": "stream",
     "text": [
      "2, 3, 5, 7, 11, 13, 17, 19, 23, 29, 31, 37, 41, 43, 47, 53, 59, 61, 67, 71, 73, 79, 83, 89, 97, 101, 103, 107, 109, 113, 127, 131, 137, 139, 149, 151, 157, 163, 167, 173, 179, 181, 191, 193, 197, 199, 211, 223, 227, 229, 233, 239, 241, 251, 257, 263, 269, 271, 277, 281, 283, 293, 307, 311, 313, 317, 331, 337, 347, 349, 353, 359, 367, 373, 379, 383, 389, 397, 401, 409, 419, 421, 431, 433, 439, 443, 449, 457, 461, 463, 467, 479, 487, 491, 499, "
     ]
    }
   ],
   "source": [
    "limite = 500\n",
    "\n",
    "n = 2\n",
    "while n < limite:\n",
    "    if eh_primo(n):\n",
    "        print(n, end=\", \")\n",
    "    n = n + 1\n",
    "    "
   ]
  },
  {
   "cell_type": "code",
   "execution_count": 9,
   "metadata": {},
   "outputs": [
    {
     "name": "stdout",
     "output_type": "stream",
     "text": [
      "Move A to C\n",
      "Move A to B\n",
      "Move C to B\n",
      "Move A to C\n",
      "Move B to A\n",
      "Move B to C\n",
      "Move A to C\n"
     ]
    }
   ],
   "source": [
    "def hanoi(n,f,h,t) :\n",
    "    if n == 0 :\n",
    "        pass\n",
    "    else :\n",
    "        hanoi(n-1,f,t,h)\n",
    "        move(f,t)\n",
    "        hanoi(n-1,h,f,t)\n",
    "\n",
    "def move(f,t) :\n",
    "    print(f\"Move {f} to {t}\")\n",
    "    \n",
    "hanoi(3,\"A\", \"B\", \"C\")"
   ]
  },
  {
   "cell_type": "code",
   "execution_count": 6,
   "metadata": {},
   "outputs": [],
   "source": [
    "import random as rand"
   ]
  },
  {
   "cell_type": "code",
   "execution_count": 7,
   "metadata": {},
   "outputs": [
    {
     "data": {
      "text/plain": [
       "0.6916692186356583"
      ]
     },
     "execution_count": 7,
     "metadata": {},
     "output_type": "execute_result"
    }
   ],
   "source": [
    "rand.random()"
   ]
  },
  {
   "cell_type": "code",
   "execution_count": 8,
   "metadata": {},
   "outputs": [],
   "source": [
    "def generate_deck() :\n",
    "    deck = []\n",
    "    suits = [\"s\", \"d\", \"h\", \"c\"]\n",
    "    for i in range(1,14) :\n",
    "        for j in suits :\n",
    "            if i == 1 :\n",
    "                card = \"A\"\n",
    "            elif i == 11 :\n",
    "                card = \"J\"\n",
    "            elif i == 12 :\n",
    "                card = \"Q\"\n",
    "            elif i == 13 :\n",
    "                card = \"K\"\n",
    "            else :\n",
    "                card = str(i)\n",
    "            deck.append(card+j)\n",
    "    return deck\n",
    "\n",
    "deck = generate_deck()\n",
    "\n",
    "rand.shuffle(deck)\n"
   ]
  },
  {
   "cell_type": "code",
   "execution_count": 9,
   "metadata": {},
   "outputs": [
    {
     "name": "stdout",
     "output_type": "stream",
     "text": [
      "['5d', '10c', '2d', 'Ks', '10h', '6h', '10s', 'Jh', '7h', '6c', '9c', '5c', '9d', '3d', 'Qc', '4s', '6s', '5h', '8c', '8d', 'Ah', 'Qd', 'Ac', '3h', '7d', '4d', 'Jd', 'Js', 'Ad', '2s', 'Qs', 'Kd', '5s', '6d', '8s', '10d', 'Jc', '7s', '4c', '8h', 'Kc', '9s', 'As', '3c', '9h', '2c', '7c', '4h', 'Qh', 'Kh', '3s', '2h']\n"
     ]
    }
   ],
   "source": [
    "print(deck)"
   ]
  },
  {
   "cell_type": "code",
   "execution_count": 10,
   "metadata": {},
   "outputs": [],
   "source": [
    "valores = []\n",
    "for i in range(0, 10, 2):\n",
    "    valores.append(i)"
   ]
  },
  {
   "cell_type": "code",
   "execution_count": 11,
   "metadata": {},
   "outputs": [
    {
     "name": "stdout",
     "output_type": "stream",
     "text": [
      "[0, 2, 4, 6, 8]\n"
     ]
    }
   ],
   "source": [
    "print(valores)\n"
   ]
  },
  {
   "cell_type": "code",
   "execution_count": 12,
   "metadata": {},
   "outputs": [
    {
     "name": "stdout",
     "output_type": "stream",
     "text": [
      "{'p1': 5}\n",
      "{'p1': 6}\n"
     ]
    }
   ],
   "source": [
    "len(deck)\n",
    "hands = {}\n",
    "hands[\"p1\"] = 5\n",
    "print(hands)\n",
    "hands[\"p1\"] = 6\n",
    "print(hands)"
   ]
  },
  {
   "cell_type": "code",
   "execution_count": 13,
   "metadata": {},
   "outputs": [],
   "source": [
    "players = [\"Gabriela\", \"Francisco\", \"Vanessa\", \"Junior\", \"Daniela\"]\n",
    "hands = {}\n",
    "hand = []\n",
    "cards_for_each_player = 5\n",
    "for i in range(0,cards_for_each_player) :\n",
    "    for p in players :\n",
    "        if p not in hands :\n",
    "            hands[p] = []\n",
    "        hand = hands[p]\n",
    "        hand.append(deck.pop(0))\n",
    "        hands[p] = hand\n"
   ]
  },
  {
   "cell_type": "code",
   "execution_count": 14,
   "metadata": {},
   "outputs": [
    {
     "data": {
      "text/plain": [
       "{'Gabriela': ['5d', '6h', '9c', '4s', 'Ah'],\n",
       " 'Francisco': ['10c', '10s', '5c', '6s', 'Qd'],\n",
       " 'Vanessa': ['2d', 'Jh', '9d', '5h', 'Ac'],\n",
       " 'Junior': ['Ks', '7h', '3d', '8c', '3h'],\n",
       " 'Daniela': ['10h', '6c', 'Qc', '8d', '7d']}"
      ]
     },
     "execution_count": 14,
     "metadata": {},
     "output_type": "execute_result"
    }
   ],
   "source": [
    "hands"
   ]
  },
  {
   "cell_type": "code",
   "execution_count": 15,
   "metadata": {},
   "outputs": [
    {
     "data": {
      "text/plain": [
       "['2d', 'Jh', '9d', '5h', 'Ac']"
      ]
     },
     "execution_count": 15,
     "metadata": {},
     "output_type": "execute_result"
    }
   ],
   "source": [
    "hands[\"Vanessa\"]"
   ]
  },
  {
   "cell_type": "code",
   "execution_count": 16,
   "metadata": {},
   "outputs": [
    {
     "data": {
      "text/plain": [
       "['Ks', '7h', '3d', '8c', '3h']"
      ]
     },
     "execution_count": 16,
     "metadata": {},
     "output_type": "execute_result"
    }
   ],
   "source": [
    "hands[\"Junior\"]"
   ]
  },
  {
   "cell_type": "code",
   "execution_count": 17,
   "metadata": {},
   "outputs": [
    {
     "data": {
      "text/plain": [
       "False"
      ]
     },
     "execution_count": 17,
     "metadata": {},
     "output_type": "execute_result"
    }
   ],
   "source": [
    "\"7d\" in hands[\"Junior\"]"
   ]
  },
  {
   "cell_type": "code",
   "execution_count": 18,
   "metadata": {},
   "outputs": [
    {
     "data": {
      "text/plain": [
       "['4d',\n",
       " 'Jd',\n",
       " 'Js',\n",
       " 'Ad',\n",
       " '2s',\n",
       " 'Qs',\n",
       " 'Kd',\n",
       " '5s',\n",
       " '6d',\n",
       " '8s',\n",
       " '10d',\n",
       " 'Jc',\n",
       " '7s',\n",
       " '4c',\n",
       " '8h',\n",
       " 'Kc',\n",
       " '9s',\n",
       " 'As',\n",
       " '3c',\n",
       " '9h',\n",
       " '2c',\n",
       " '7c',\n",
       " '4h',\n",
       " 'Qh',\n",
       " 'Kh',\n",
       " '3s',\n",
       " '2h']"
      ]
     },
     "execution_count": 18,
     "metadata": {},
     "output_type": "execute_result"
    }
   ],
   "source": [
    "deck"
   ]
  },
  {
   "cell_type": "code",
   "execution_count": null,
   "metadata": {},
   "outputs": [],
   "source": []
  }
 ],
 "metadata": {
  "kernelspec": {
   "display_name": "Python 3",
   "language": "python",
   "name": "python3"
  },
  "language_info": {
   "codemirror_mode": {
    "name": "ipython",
    "version": 3
   },
   "file_extension": ".py",
   "mimetype": "text/x-python",
   "name": "python",
   "nbconvert_exporter": "python",
   "pygments_lexer": "ipython3",
   "version": "3.6.9"
  }
 },
 "nbformat": 4,
 "nbformat_minor": 4
}
