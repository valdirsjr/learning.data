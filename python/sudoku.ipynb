{
 "cells": [
  {
   "cell_type": "code",
   "execution_count": 96,
   "metadata": {},
   "outputs": [
    {
     "name": "stdout",
     "output_type": "stream",
     "text": [
      "[[0 1 0 0 0 9 0 0 8]\n",
      " [2 0 7 0 3 0 0 0 0]\n",
      " [0 0 4 6 0 2 0 3 0]\n",
      " [3 7 8 4 0 0 0 0 9]\n",
      " [4 2 9 0 0 0 0 8 1]\n",
      " [0 6 1 9 2 8 4 0 0]\n",
      " [0 0 6 0 8 4 3 0 7]\n",
      " [0 4 0 0 9 0 0 1 0]\n",
      " [8 3 0 0 0 0 6 0 4]]\n"
     ]
    }
   ],
   "source": [
    "import numpy as np\n",
    "sudoku = [\n",
    "          [0,1,0,0,0,9,0,0,8],\n",
    "          [2,0,7,0,3,0,0,0,0],\n",
    "          [0,0,4,6,0,2,0,3,0],\n",
    "          [3,7,8,4,0,0,0,0,9],\n",
    "          [4,2,9,0,0,0,0,8,1],\n",
    "          [0,6,1,9,2,8,4,0,0],\n",
    "          [0,0,6,0,8,4,3,0,7],\n",
    "          [0,4,0,0,9,0,0,1,0],\n",
    "          [8,3,0,0,0,0,6,0,4]\n",
    "         ]\n",
    "print(np.matrix(sudoku1))\n",
    "\n",
    "grid = sudoku"
   ]
  },
  {
   "cell_type": "code",
   "execution_count": 97,
   "metadata": {},
   "outputs": [
    {
     "data": {
      "text/plain": [
       "True"
      ]
     },
     "execution_count": 97,
     "metadata": {},
     "output_type": "execute_result"
    }
   ],
   "source": [
    "def possible(x,y,n) :\n",
    "    global grid\n",
    "    \n",
    "    for i in range(0,9) :\n",
    "        if grid[x][i] == n :\n",
    "            return False\n",
    "    for i in range(0,9) :\n",
    "        if grid[i][y] == n :\n",
    "            return False\n",
    "    xq = (x//3)*3\n",
    "    yq = (y//3)*3\n",
    "    for i in range(3) :\n",
    "        for j in range(0,3) :\n",
    "            if grid[xq+i][yq+j] == n :\n",
    "                return False\n",
    "    return True\n",
    "\n",
    "possible(0,0,5)"
   ]
  },
  {
   "cell_type": "code",
   "execution_count": 98,
   "metadata": {},
   "outputs": [
    {
     "name": "stdout",
     "output_type": "stream",
     "text": [
      "[[0 1 0 0 0 9 0 0 8]\n",
      " [2 0 7 0 3 0 0 0 0]\n",
      " [0 0 4 6 0 2 0 3 5]\n",
      " [3 7 8 4 0 0 0 0 9]\n",
      " [4 2 9 0 0 0 0 8 1]\n",
      " [5 6 1 9 2 8 4 7 3]\n",
      " [0 0 6 0 8 4 3 0 7]\n",
      " [7 4 0 0 9 0 0 1 2]\n",
      " [8 3 0 0 0 0 6 0 4]]\n",
      "[[6 1 0 0 0 9 0 0 8]\n",
      " [2 0 7 0 3 0 0 0 6]\n",
      " [9 8 4 6 0 2 0 3 5]\n",
      " [3 7 8 4 0 0 0 0 9]\n",
      " [4 2 9 0 0 0 5 8 1]\n",
      " [5 6 1 9 2 8 4 7 3]\n",
      " [1 0 6 0 8 4 3 0 7]\n",
      " [7 4 5 3 9 6 8 1 2]\n",
      " [8 3 2 0 0 0 6 0 4]]\n",
      "[[6 1 3 0 0 9 0 0 8]\n",
      " [2 5 7 0 3 1 9 4 6]\n",
      " [9 8 4 6 7 2 1 3 5]\n",
      " [3 7 8 4 0 5 2 6 9]\n",
      " [4 2 9 7 6 3 5 8 1]\n",
      " [5 6 1 9 2 8 4 7 3]\n",
      " [1 9 6 0 8 4 3 5 7]\n",
      " [7 4 5 3 9 6 8 1 2]\n",
      " [8 3 2 0 0 7 6 9 4]]\n",
      "[[6 1 3 5 4 9 7 2 8]\n",
      " [2 5 7 8 3 1 9 4 6]\n",
      " [9 8 4 6 7 2 1 3 5]\n",
      " [3 7 8 4 1 5 2 6 9]\n",
      " [4 2 9 7 6 3 5 8 1]\n",
      " [5 6 1 9 2 8 4 7 3]\n",
      " [1 9 6 2 8 4 3 5 7]\n",
      " [7 4 5 3 9 6 8 1 2]\n",
      " [8 3 2 1 5 7 6 9 4]]\n"
     ]
    }
   ],
   "source": [
    "def solved() :\n",
    "    global grid\n",
    "    for i in range(9) :\n",
    "        for j in range(9) :\n",
    "            if grid[i][j] == 0 :\n",
    "                return False\n",
    "    return True\n",
    "    \n",
    "def solve() :\n",
    "    global grid\n",
    "    for i in range(9) :\n",
    "        for j in range(9) :\n",
    "            if grid[i][j] == 0 :\n",
    "                ns = []     #list for all possible numbers for this cell\n",
    "                for n in range(1,10) :\n",
    "                    if possible(i,j,n) :\n",
    "                        ns.append(n)\n",
    "                if len(ns) == 1 :\n",
    "                    grid[i][j] = ns[0]\n",
    "                         \n",
    "    print(np.matrix(grid))\n",
    "    \n",
    "    if not solved() :\n",
    "        solve()\n",
    "                        \n",
    "solve()"
   ]
  },
  {
   "cell_type": "code",
   "execution_count": null,
   "metadata": {},
   "outputs": [],
   "source": []
  },
  {
   "cell_type": "code",
   "execution_count": 99,
   "metadata": {},
   "outputs": [
    {
     "name": "stdout",
     "output_type": "stream",
     "text": [
      "[[6 1 3 5 4 9 7 2 8]\n",
      " [2 5 7 8 3 1 9 4 6]\n",
      " [9 8 4 6 7 2 1 3 5]\n",
      " [3 7 8 4 1 5 2 6 9]\n",
      " [4 2 9 7 6 3 5 8 1]\n",
      " [5 6 1 9 2 8 4 7 3]\n",
      " [1 9 6 2 8 4 3 5 7]\n",
      " [7 4 5 3 9 6 8 1 2]\n",
      " [8 3 2 1 5 7 6 9 4]]\n"
     ]
    }
   ],
   "source": [
    "def solve2() :\n",
    "    global grid\n",
    "    for i in range(9) :\n",
    "        for j in range(9) :\n",
    "            if grid[i][j] == 0 :\n",
    "                for n in range(1,10) :\n",
    "                    if possible(i,j,n) :\n",
    "                        grid[i][j] = n\n",
    "                        solve2()\n",
    "                        grid[i][j] = 0\n",
    "                return\n",
    "    print(np.matrix(grid))\n",
    "    \n",
    "solve2()"
   ]
  },
  {
   "cell_type": "code",
   "execution_count": null,
   "metadata": {},
   "outputs": [],
   "source": []
  }
 ],
 "metadata": {
  "kernelspec": {
   "display_name": "Python 3",
   "language": "python",
   "name": "python3"
  },
  "language_info": {
   "codemirror_mode": {
    "name": "ipython",
    "version": 3
   },
   "file_extension": ".py",
   "mimetype": "text/x-python",
   "name": "python",
   "nbconvert_exporter": "python",
   "pygments_lexer": "ipython3",
   "version": "3.6.9"
  }
 },
 "nbformat": 4,
 "nbformat_minor": 4
}
